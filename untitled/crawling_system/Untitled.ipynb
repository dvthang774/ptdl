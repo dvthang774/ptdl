{
 "cells": [
  {
   "cell_type": "code",
   "execution_count": 3,
   "id": "0af584b0",
   "metadata": {},
   "outputs": [],
   "source": [
    "import numpy as np\n",
    "import pandas as pd"
   ]
  },
  {
   "cell_type": "code",
   "execution_count": 4,
   "id": "c7b95747",
   "metadata": {},
   "outputs": [
    {
     "name": "stdout",
     "output_type": "stream",
     "text": [
      "               Username                                            Comment  \\\n",
      "0       hankkumivietnam  Màu sắc đẹp, giao hàng nhanh, mua được giá sal...   \n",
      "1          donghuong116  Bọc hàng cực kỳ kỹ và cẩn thận. Tuy giao hàng ...   \n",
      "2            anbinh1980  Giao rất nhanh, đóng gói đẹp, cẩn thận, máy mớ...   \n",
      "3            anbinh1980  Giao rất nhanh, mua 4 máy rồi, máy nào sử dụng...   \n",
      "4     phanvanthanh_2019  Lần đầu mua điện thoại qua mạng cũng thấy hơi ...   \n",
      "...                 ...                                                ...   \n",
      "1091             thua13     vẫn rất đẹp nha mình mua vài lần rồi \\nrất ưng   \n",
      "1092         quangbac00                                                NaN   \n",
      "1093            dolliii                                                 Ok   \n",
      "1094             thua13                                                 ok   \n",
      "1095          tieposcar                                                NaN   \n",
      "\n",
      "      Rating                 Time   IdProduct  \n",
      "0          5  2021-01-29 10:57:32  3355289986  \n",
      "1          5  2020-12-04 10:59:49  3355289986  \n",
      "2          5  2020-12-25 12:10:40  3355289986  \n",
      "3          5  2021-02-09 18:22:30  3355289986  \n",
      "4          5  2021-02-21 12:20:11  3355289986  \n",
      "...      ...                  ...         ...  \n",
      "1091       5  2020-08-02 10:09:03  3914727869  \n",
      "1092       5  2020-06-04 13:53:50  3914727869  \n",
      "1093       5  2020-11-30 17:44:41  3914727869  \n",
      "1094       5  2020-07-05 19:24:18  3914727869  \n",
      "1095       5  2020-07-02 18:00:21  3914727869  \n",
      "\n",
      "[1096 rows x 5 columns]\n"
     ]
    }
   ],
   "source": [
    "data = pd.read_csv('output.csv')\n",
    "print(data)"
   ]
  },
  {
   "cell_type": "code",
   "execution_count": 5,
   "id": "0f2d4e59",
   "metadata": {},
   "outputs": [
    {
     "ename": "TypeError",
     "evalue": "'DataFrame' object is not callable",
     "output_type": "error",
     "traceback": [
      "\u001b[0;31m---------------------------------------------------------------------------\u001b[0m",
      "\u001b[0;31mTypeError\u001b[0m                                 Traceback (most recent call last)",
      "\u001b[0;32m/var/folders/f9/13g8k2151q56d7jfms8z4fch0000gn/T/ipykernel_10695/1076920041.py\u001b[0m in \u001b[0;36m<module>\u001b[0;34m\u001b[0m\n\u001b[0;32m----> 1\u001b[0;31m \u001b[0mdata\u001b[0m\u001b[0;34m(\u001b[0m\u001b[0;34m[\u001b[0m\u001b[0;34m'Rating'\u001b[0m\u001b[0;34m,\u001b[0m\u001b[0;34m'IdProduct'\u001b[0m\u001b[0;34m]\u001b[0m\u001b[0;34m)\u001b[0m\u001b[0;34m\u001b[0m\u001b[0;34m\u001b[0m\u001b[0m\n\u001b[0m",
      "\u001b[0;31mTypeError\u001b[0m: 'DataFrame' object is not callable"
     ]
    }
   ],
   "source": [
    "data(['Rating','IdProduct'])"
   ]
  },
  {
   "cell_type": "code",
   "execution_count": null,
   "id": "283fd57e",
   "metadata": {},
   "outputs": [],
   "source": []
  }
 ],
 "metadata": {
  "kernelspec": {
   "display_name": "Python 3 (ipykernel)",
   "language": "python",
   "name": "python3"
  },
  "language_info": {
   "codemirror_mode": {
    "name": "ipython",
    "version": 3
   },
   "file_extension": ".py",
   "mimetype": "text/x-python",
   "name": "python",
   "nbconvert_exporter": "python",
   "pygments_lexer": "ipython3",
   "version": "3.9.7"
  }
 },
 "nbformat": 4,
 "nbformat_minor": 5
}
